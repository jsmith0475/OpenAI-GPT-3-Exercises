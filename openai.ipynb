{
 "cells": [
  {
   "cell_type": "markdown",
   "metadata": {},
   "source": [
    "## OpenAI\n",
    "OpenAI is an AI research and deployment company. Their mission is to ensure that artificial general intelligence benefits all of humanity. Your mission is to use to benefit your professional career and personal wellbeing.\n",
    "\n",
    "1. Read the artiles\n",
    "\n",
    "2. Recreate the article example. Use Grammarly.com to help with, well, grammar.\n",
    "    \n",
    "    2.1 [Grammarly](https://www.grammarly.com)\n",
    "\n",
    "3. Create new content for yourself.\n",
    "\n",
    "4. Bonus Work: Get a key and use code to create article\n",
    "\n",
    "    4.1 OpenAI key generation can be found under the account settings\n",
    "    \n",
    "\n",
    "### Introduction\n",
    "\n",
    "https://beta.openai.com/docs/introduction\n",
    "\n",
    "### API Reference\n",
    "\n",
    "https://beta.openai.com/docs/api-reference/introduction?lang=python\n",
    "\n",
    "### Article\n",
    "\n",
    "1. [We Asked GPT-3 to Write an Academic Paper about Itself—Then We Tried to Get It Published](https://www.scientificamerican.com/article/we-asked-gpt-3-to-write-an-academic-paper-about-itself-then-we-tried-to-get-it-published/)\n",
    "\n",
    "2. [Can GPT-3 write an academic paper on itself, with minimal human input?](https://hal.archives-ouvertes.fr/hal-03701250v1)\n",
    "\n",
    "3. [Automatic Sensemaking](https://blog.cbs.dk/inframethodology/?p=5378)\n",
    "\n",
    "4. [Are Language Models Deprived of Electric Sleep?](https://blog.cbs.dk/inframethodology/)\n",
    "\n",
    "\n",
    "### Playground\n",
    "\n",
    "https://beta.openai.com/playground\n",
    "\n",
    "\n",
    "### IDEAS:\n",
    "1. In 20 min, iterate through a series of expanding text content, similar to the method in the article, on data science/machine learning/ai subject. Check the grammar in Grammarly.com. Post a 1300 character article in LinkedIn and share it with the team.\n",
    "\n",
    "    1.1 How did the process go?\n",
    "\n",
    "    1.2 How did you feel after posting the article?\n",
    "\n",
    "    1.3 Is it too unrealistic to believe you will do another?\n",
    "    \n",
    "2. DALL-E2 is a new AI system by OpenAi that can create realistic images and art from a description. Take your favorite poem or passage and create an image. Share it with the team.  \n",
    "    \n",
    "    2.1 How did the process go?\n",
    "\n",
    "    2.2 How did you feel after sharing the image?\n",
    "\n",
    "    2.3 How can we use this capability our clients? \n",
    "\n",
    "    2.4 Bonus Points.  Write a short LinkedIn article, using the process in #1, about the poem and picture. Post it to LinkedIn.\n",
    "        "
   ]
  },
  {
   "cell_type": "markdown",
   "metadata": {},
   "source": [
    "### Import required packages"
   ]
  },
  {
   "cell_type": "code",
   "execution_count": 6,
   "metadata": {},
   "outputs": [],
   "source": [
    "import os\n",
    "import openai\n",
    "import config # I put my keys in a config file and import them"
   ]
  },
  {
   "cell_type": "code",
   "execution_count": 7,
   "metadata": {},
   "outputs": [],
   "source": [
    "openai.api_key = config.OPENAI_KEY\n",
    "\n",
    "# openai.api_key = \"Your Key Goes Here\""
   ]
  },
  {
   "cell_type": "code",
   "execution_count": 8,
   "metadata": {},
   "outputs": [
    {
     "data": {
      "text/plain": [
       "openai.openai_object.OpenAIObject"
      ]
     },
     "execution_count": 8,
     "metadata": {},
     "output_type": "execute_result"
    }
   ],
   "source": [
    "# Generate text using completion\n",
    "\n",
    "response = openai.Completion.create(\n",
    "  model=\"text-davinci-002\",\n",
    "  prompt= \"The Significance of Blockchain and Artificial Intelligence\",\n",
    "  temperature=0.77,\n",
    "  max_tokens=208,\n",
    "  top_p=0.9,\n",
    "  best_of=18,\n",
    "  frequency_penalty=0.95,\n",
    "  presence_penalty=0.95\n",
    ")\n",
    "type(response)"
   ]
  },
  {
   "cell_type": "code",
   "execution_count": 9,
   "metadata": {},
   "outputs": [
    {
     "data": {
      "text/plain": [
       "<OpenAIObject text_completion id=cmpl-5XAFSoiK1dZMJfi8L5R5b5O0JokNV at 0x10a83b9c0> JSON: {\n",
       "  \"choices\": [\n",
       "    {\n",
       "      \"finish_reason\": \"length\",\n",
       "      \"index\": 0,\n",
       "      \"logprobs\": null,\n",
       "      \"text\": \" in the Fourth Industrial Revolution\\n\\nIn recent years, there has been a lot of talk about the fourth industrial revolution. This is a term that was first coined by Klaus Schwab, the founder and executive chairman of the World Economic Forum. The fourth industrial revolution is defined as a transformation that is characterized by a range of new technologies that are fusing the physical, digital and biological worlds.\\n\\nOne of the most important aspects of this transformation is the way in which it is blurring the lines between the physical and digital worlds. This is something that is being made possible by advances in technology such as artificial intelligence (AI), blockchain and the Internet of Things (IoT). These technologies are all playing a role in transforming industries and society as a whole.\\n\\nOne area where blockchain is having a particularly transformative effect is in supply chain management. Blockchain provides a secure and transparent way to track goods and materials as they move through different stages of production. This can help to improve efficiency and reduce costs. In addition, blockchain can also\"\n",
       "    }\n",
       "  ],\n",
       "  \"created\": 1658585902,\n",
       "  \"id\": \"cmpl-5XAFSoiK1dZMJfi8L5R5b5O0JokNV\",\n",
       "  \"model\": \"text-davinci-002\",\n",
       "  \"object\": \"text_completion\",\n",
       "  \"usage\": {\n",
       "    \"completion_tokens\": 2504,\n",
       "    \"prompt_tokens\": 9,\n",
       "    \"total_tokens\": 2513\n",
       "  }\n",
       "}"
      ]
     },
     "execution_count": 9,
     "metadata": {},
     "output_type": "execute_result"
    }
   ],
   "source": [
    "response"
   ]
  },
  {
   "cell_type": "code",
   "execution_count": 10,
   "metadata": {},
   "outputs": [
    {
     "data": {
      "text/plain": [
       "' in the Fourth Industrial Revolution\\n\\nIn recent years, there has been a lot of talk about the fourth industrial revolution. This is a term that was first coined by Klaus Schwab, the founder and executive chairman of the World Economic Forum. The fourth industrial revolution is defined as a transformation that is characterized by a range of new technologies that are fusing the physical, digital and biological worlds.\\n\\nOne of the most important aspects of this transformation is the way in which it is blurring the lines between the physical and digital worlds. This is something that is being made possible by advances in technology such as artificial intelligence (AI), blockchain and the Internet of Things (IoT). These technologies are all playing a role in transforming industries and society as a whole.\\n\\nOne area where blockchain is having a particularly transformative effect is in supply chain management. Blockchain provides a secure and transparent way to track goods and materials as they move through different stages of production. This can help to improve efficiency and reduce costs. In addition, blockchain can also'"
      ]
     },
     "execution_count": 10,
     "metadata": {},
     "output_type": "execute_result"
    }
   ],
   "source": [
    "response['choices'][0][\"text\"]"
   ]
  },
  {
   "cell_type": "code",
   "execution_count": 12,
   "metadata": {},
   "outputs": [],
   "source": [
    "# Take the response text and edit it in grammarly. Add the text to the prompt field. \n",
    "\n",
    "response2 = openai.Completion.create(\n",
    "  model=\"text-davinci-002\",\n",
    "  prompt=\" in the Fourth Industrial Revolution\\n\\nIn recent years, there has been a lot of talk about the fourth industrial revolution. This is a term that was first coined by Klaus Schwab, the founder and executive chairman of the World Economic Forum. The fourth industrial revolution is defined as a transformation that is characterized by a range of new technologies that are fusing the physical, digital and biological worlds.\\n\\nOne of the most important aspects of this transformation is the way in which it is blurring the lines between the physical and digital worlds. This is something that is being made possible by advances in technology such as artificial intelligence (AI), blockchain and the Internet of Things (IoT). These technologies are all playing a role in transforming industries and society as a whole.\\n\\nOne area where blockchain is having a particularly transformative effect is in supply chain management. Blockchain provides a secure and transparent way to track goods and materials as they move through different stages of production. This can help to improve efficiency and reduce costs. In addition, blockchain can also\",\n",
    "  temperature=0.77,\n",
    "  max_tokens=208,\n",
    "  top_p=0.9,\n",
    "  best_of=18,\n",
    "  frequency_penalty=0.95,\n",
    "  presence_penalty=0.95\n",
    ")"
   ]
  },
  {
   "cell_type": "code",
   "execution_count": 13,
   "metadata": {},
   "outputs": [
    {
     "data": {
      "text/plain": [
       "' be used to verify the authenticity of products and ensure that they have not been tampered with.\\n\\nThe potential applications of blockchain in supply chain management are vast. For example, it could be used to track the provenance of food items, pharmaceuticals and other products. This would help to ensure that these products have not been exposed to any risks during their journey from farm to table. In addition, blockchain could also be used to track the movement of goods through different stages of production, from raw materials to finished products. This would help companies to identify bottlenecks and optimize their operations.\\n\\nBlockchain is also having a transformative effect on the way in which data is managed and stored. The traditional centralized model of data storage is no longer fit for purpose in a world where data is constantly being generated at an unprecedented rate. Blockchain provides a decentralized way to store data that is secure, transparent and tamper-proof. This makes it ideal for storing sensitive data such as medical records or financial transactions.\\n\\nIn addition,'"
      ]
     },
     "execution_count": 13,
     "metadata": {},
     "output_type": "execute_result"
    }
   ],
   "source": [
    "response2['choices'][0][\"text\"]"
   ]
  },
  {
   "cell_type": "markdown",
   "metadata": {},
   "source": [
    "###  Edit again. \n",
    "\n",
    "Add more prompts:\n",
    "- The strengths of XYZ are:\n",
    "\n",
    "adding the colon is a prompt token for OpenAi to complete the sentence.\n",
    "\n",
    "- The weaknesses of XYZ are:\n",
    "\n",
    "\n",
    "- In conclusion, \n",
    "\n",
    "adding the comma is a prompt token for OpenAi to complete the sentence.\n",
    "\n",
    "- In summary, \n",
    "\n",
    "\n",
    "\n",
    "\n"
   ]
  },
  {
   "cell_type": "markdown",
   "metadata": {},
   "source": [
    "## Try the same exercise in OpenAI Playground... Much easier and more creative :)"
   ]
  },
  {
   "cell_type": "markdown",
   "metadata": {},
   "source": []
  }
 ],
 "metadata": {
  "kernelspec": {
   "display_name": "Python 3.10.5 ('env_fs')",
   "language": "python",
   "name": "python3"
  },
  "language_info": {
   "codemirror_mode": {
    "name": "ipython",
    "version": 3
   },
   "file_extension": ".py",
   "mimetype": "text/x-python",
   "name": "python",
   "nbconvert_exporter": "python",
   "pygments_lexer": "ipython3",
   "version": "3.10.5"
  },
  "orig_nbformat": 4,
  "vscode": {
   "interpreter": {
    "hash": "da0f0f32581c8d175738fe298e1753b66167880bd2de79ac030281722a9c08ff"
   }
  }
 },
 "nbformat": 4,
 "nbformat_minor": 2
}
